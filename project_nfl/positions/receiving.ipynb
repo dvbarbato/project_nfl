{
 "cells": [
  {
   "cell_type": "code",
   "execution_count": 1,
   "id": "3dc08e26",
   "metadata": {
    "ExecuteTime": {
     "end_time": "2023-02-08T00:04:01.437748Z",
     "start_time": "2023-02-08T00:04:00.672473Z"
    }
   },
   "outputs": [],
   "source": [
    "import pandas as pd\n",
    "import numpy as np\n",
    "import requests, time\n",
    "from bs4 import BeautifulSoup\n",
    "import sqlalchemy\n",
    "\n",
    "pd.set_option('display.max_columns', None)"
   ]
  },
  {
   "cell_type": "code",
   "execution_count": 2,
   "id": "533861e3",
   "metadata": {
    "ExecuteTime": {
     "end_time": "2023-02-08T00:04:01.453816Z",
     "start_time": "2023-02-08T00:04:01.439761Z"
    }
   },
   "outputs": [],
   "source": [
    "name_table = 'receiving'"
   ]
  },
  {
   "cell_type": "code",
   "execution_count": 3,
   "id": "ce47e84a",
   "metadata": {
    "ExecuteTime": {
     "end_time": "2023-02-08T00:04:01.469545Z",
     "start_time": "2023-02-08T00:04:01.455774Z"
    }
   },
   "outputs": [],
   "source": [
    "url = 'http://pfref.com/pi/share/B5pM6'"
   ]
  },
  {
   "cell_type": "code",
   "execution_count": 4,
   "id": "b91c8e08",
   "metadata": {
    "ExecuteTime": {
     "end_time": "2023-02-08T00:04:01.485036Z",
     "start_time": "2023-02-08T00:04:01.473563Z"
    },
    "cell_style": "center"
   },
   "outputs": [],
   "source": [
    "def read_html(url):\n",
    "    pd.read_html(url)\n",
    "   \n",
    "    return pd.read_html(url)"
   ]
  },
  {
   "cell_type": "code",
   "execution_count": 5,
   "id": "9ec5609c",
   "metadata": {
    "ExecuteTime": {
     "end_time": "2023-02-08T00:04:01.501041Z",
     "start_time": "2023-02-08T00:04:01.486036Z"
    },
    "cell_style": "center"
   },
   "outputs": [],
   "source": [
    "def convert_df(lista):\n",
    "    lista[0]\n",
    "    \n",
    "    return lista[0]"
   ]
  },
  {
   "cell_type": "code",
   "execution_count": 6,
   "id": "b73cb70f",
   "metadata": {
    "ExecuteTime": {
     "end_time": "2023-02-08T00:04:01.516208Z",
     "start_time": "2023-02-08T00:04:01.502037Z"
    }
   },
   "outputs": [],
   "source": [
    "# def rm_unnamed_col(dado):\n",
    "#     dt = dado.rename(columns={'Yds.1':'Yds_sk'})\n",
    "#     return dt"
   ]
  },
  {
   "cell_type": "code",
   "execution_count": 7,
   "id": "31ea1a80",
   "metadata": {
    "ExecuteTime": {
     "end_time": "2023-02-08T00:04:01.531243Z",
     "start_time": "2023-02-08T00:04:01.518201Z"
    },
    "cell_style": "center"
   },
   "outputs": [],
   "source": [
    "def add_col_characters(dataframe):\n",
    "    dataframe.loc[:,'All-Pro'] = dataframe['Player'].str.contains('+', regex=False)\n",
    "    dataframe.loc[:,'Selected_Pro_Bowl'] = dataframe['Player'].str.contains('*', regex=False)\n",
    "   \n",
    "    return dataframe"
   ]
  },
  {
   "cell_type": "code",
   "execution_count": 8,
   "id": "6e920cc2",
   "metadata": {
    "ExecuteTime": {
     "end_time": "2023-02-08T00:04:01.547202Z",
     "start_time": "2023-02-08T00:04:01.532198Z"
    },
    "cell_style": "center"
   },
   "outputs": [],
   "source": [
    "def clean_col_player(dataframe):\n",
    "    dataframe['Player'] = dataframe['Player'].str.replace('*','')\n",
    "    dataframe['Player'] = dataframe['Player'].str.replace('+','')\n",
    "    \n",
    "    return dataframe\n",
    "  "
   ]
  },
  {
   "cell_type": "code",
   "execution_count": 9,
   "id": "c8e8ff12",
   "metadata": {
    "ExecuteTime": {
     "end_time": "2023-02-08T00:04:01.563201Z",
     "start_time": "2023-02-08T00:04:01.549200Z"
    },
    "cell_style": "center"
   },
   "outputs": [],
   "source": [
    "def limpar_todas_coluna(dataframe):\n",
    "    dataframe.columns = [(c.lower().strip()) for c in dataframe.columns]\n",
    "    \n",
    "    return dataframe.columns"
   ]
  },
  {
   "cell_type": "code",
   "execution_count": 10,
   "id": "c44b412e",
   "metadata": {
    "ExecuteTime": {
     "end_time": "2023-02-08T00:04:01.578780Z",
     "start_time": "2023-02-08T00:04:01.565997Z"
    }
   },
   "outputs": [],
   "source": [
    "def robo(url):\n",
    "    lista = read_html(url)\n",
    "    converter_em_dataframe = convert_df(lista)\n",
    "    #tirar_nomes_coluna= rm_unnamed_col(converter_em_dataframe)\n",
    "    adicionar_colunas_novas = add_col_characters(converter_em_dataframe)\n",
    "    limpar_coluna_player = clean_col_player(adicionar_colunas_novas)\n",
    "    dataframe_final = limpar_todas_coluna(limpar_coluna_player)\n",
    "    \n",
    "    \n",
    "    \n",
    "    return converter_em_dataframe"
   ]
  },
  {
   "cell_type": "code",
   "execution_count": 11,
   "id": "e9013e51",
   "metadata": {
    "ExecuteTime": {
     "end_time": "2023-02-08T00:04:04.650846Z",
     "start_time": "2023-02-08T00:04:01.580820Z"
    },
    "scrolled": true
   },
   "outputs": [
    {
     "name": "stderr",
     "output_type": "stream",
     "text": [
      "C:\\Users\\mateu\\AppData\\Local\\Temp\\ipykernel_10520\\284709308.py:2: FutureWarning: The default value of regex will change from True to False in a future version. In addition, single character regular expressions will *not* be treated as literal strings when regex=True.\n",
      "  dataframe['Player'] = dataframe['Player'].str.replace('*','')\n",
      "C:\\Users\\mateu\\AppData\\Local\\Temp\\ipykernel_10520\\284709308.py:3: FutureWarning: The default value of regex will change from True to False in a future version. In addition, single character regular expressions will *not* be treated as literal strings when regex=True.\n",
      "  dataframe['Player'] = dataframe['Player'].str.replace('+','')\n"
     ]
    },
    {
     "data": {
      "text/html": [
       "<div>\n",
       "<style scoped>\n",
       "    .dataframe tbody tr th:only-of-type {\n",
       "        vertical-align: middle;\n",
       "    }\n",
       "\n",
       "    .dataframe tbody tr th {\n",
       "        vertical-align: top;\n",
       "    }\n",
       "\n",
       "    .dataframe thead th {\n",
       "        text-align: right;\n",
       "    }\n",
       "</style>\n",
       "<table border=\"1\" class=\"dataframe\">\n",
       "  <thead>\n",
       "    <tr style=\"text-align: right;\">\n",
       "      <th></th>\n",
       "      <th>rk</th>\n",
       "      <th>player</th>\n",
       "      <th>tm</th>\n",
       "      <th>age</th>\n",
       "      <th>pos</th>\n",
       "      <th>g</th>\n",
       "      <th>gs</th>\n",
       "      <th>tgt</th>\n",
       "      <th>rec</th>\n",
       "      <th>ctch%</th>\n",
       "      <th>yds</th>\n",
       "      <th>y/r</th>\n",
       "      <th>td</th>\n",
       "      <th>1d</th>\n",
       "      <th>lng</th>\n",
       "      <th>y/tgt</th>\n",
       "      <th>r/g</th>\n",
       "      <th>y/g</th>\n",
       "      <th>fmb</th>\n",
       "      <th>all-pro</th>\n",
       "      <th>selected_pro_bowl</th>\n",
       "    </tr>\n",
       "  </thead>\n",
       "  <tbody>\n",
       "    <tr>\n",
       "      <th>0</th>\n",
       "      <td>1</td>\n",
       "      <td>Justin Jefferson</td>\n",
       "      <td>MIN</td>\n",
       "      <td>23</td>\n",
       "      <td>WR</td>\n",
       "      <td>17</td>\n",
       "      <td>17</td>\n",
       "      <td>184</td>\n",
       "      <td>128</td>\n",
       "      <td>69.6%</td>\n",
       "      <td>1809</td>\n",
       "      <td>14.1</td>\n",
       "      <td>8</td>\n",
       "      <td>80</td>\n",
       "      <td>64</td>\n",
       "      <td>9.8</td>\n",
       "      <td>7.5</td>\n",
       "      <td>106.4</td>\n",
       "      <td>0</td>\n",
       "      <td>True</td>\n",
       "      <td>True</td>\n",
       "    </tr>\n",
       "    <tr>\n",
       "      <th>1</th>\n",
       "      <td>2</td>\n",
       "      <td>Tyreek Hill</td>\n",
       "      <td>MIA</td>\n",
       "      <td>28</td>\n",
       "      <td>WR</td>\n",
       "      <td>17</td>\n",
       "      <td>17</td>\n",
       "      <td>170</td>\n",
       "      <td>119</td>\n",
       "      <td>70.0%</td>\n",
       "      <td>1710</td>\n",
       "      <td>14.4</td>\n",
       "      <td>7</td>\n",
       "      <td>77</td>\n",
       "      <td>64</td>\n",
       "      <td>10.1</td>\n",
       "      <td>7.0</td>\n",
       "      <td>100.6</td>\n",
       "      <td>1</td>\n",
       "      <td>True</td>\n",
       "      <td>True</td>\n",
       "    </tr>\n",
       "    <tr>\n",
       "      <th>2</th>\n",
       "      <td>3</td>\n",
       "      <td>Travis Kelce</td>\n",
       "      <td>KAN</td>\n",
       "      <td>33</td>\n",
       "      <td>TE</td>\n",
       "      <td>17</td>\n",
       "      <td>17</td>\n",
       "      <td>152</td>\n",
       "      <td>110</td>\n",
       "      <td>72.4%</td>\n",
       "      <td>1338</td>\n",
       "      <td>12.2</td>\n",
       "      <td>12</td>\n",
       "      <td>78</td>\n",
       "      <td>52</td>\n",
       "      <td>8.8</td>\n",
       "      <td>6.5</td>\n",
       "      <td>78.7</td>\n",
       "      <td>1</td>\n",
       "      <td>True</td>\n",
       "      <td>True</td>\n",
       "    </tr>\n",
       "    <tr>\n",
       "      <th>3</th>\n",
       "      <td>4</td>\n",
       "      <td>Stefon Diggs</td>\n",
       "      <td>BUF</td>\n",
       "      <td>29</td>\n",
       "      <td>WR</td>\n",
       "      <td>16</td>\n",
       "      <td>16</td>\n",
       "      <td>154</td>\n",
       "      <td>108</td>\n",
       "      <td>70.1%</td>\n",
       "      <td>1429</td>\n",
       "      <td>13.2</td>\n",
       "      <td>11</td>\n",
       "      <td>74</td>\n",
       "      <td>53</td>\n",
       "      <td>9.3</td>\n",
       "      <td>6.8</td>\n",
       "      <td>89.3</td>\n",
       "      <td>1</td>\n",
       "      <td>False</td>\n",
       "      <td>True</td>\n",
       "    </tr>\n",
       "    <tr>\n",
       "      <th>4</th>\n",
       "      <td>5</td>\n",
       "      <td>Austin Ekeler</td>\n",
       "      <td>LAC</td>\n",
       "      <td>27</td>\n",
       "      <td>RB</td>\n",
       "      <td>17</td>\n",
       "      <td>17</td>\n",
       "      <td>127</td>\n",
       "      <td>107</td>\n",
       "      <td>84.3%</td>\n",
       "      <td>722</td>\n",
       "      <td>6.7</td>\n",
       "      <td>5</td>\n",
       "      <td>36</td>\n",
       "      <td>23</td>\n",
       "      <td>5.7</td>\n",
       "      <td>6.3</td>\n",
       "      <td>42.5</td>\n",
       "      <td>5</td>\n",
       "      <td>False</td>\n",
       "      <td>False</td>\n",
       "    </tr>\n",
       "    <tr>\n",
       "      <th>...</th>\n",
       "      <td>...</td>\n",
       "      <td>...</td>\n",
       "      <td>...</td>\n",
       "      <td>...</td>\n",
       "      <td>...</td>\n",
       "      <td>...</td>\n",
       "      <td>...</td>\n",
       "      <td>...</td>\n",
       "      <td>...</td>\n",
       "      <td>...</td>\n",
       "      <td>...</td>\n",
       "      <td>...</td>\n",
       "      <td>...</td>\n",
       "      <td>...</td>\n",
       "      <td>...</td>\n",
       "      <td>...</td>\n",
       "      <td>...</td>\n",
       "      <td>...</td>\n",
       "      <td>...</td>\n",
       "      <td>...</td>\n",
       "      <td>...</td>\n",
       "    </tr>\n",
       "    <tr>\n",
       "      <th>503</th>\n",
       "      <td>504</td>\n",
       "      <td>Noah Togiai</td>\n",
       "      <td>PHI</td>\n",
       "      <td>25</td>\n",
       "      <td>TE</td>\n",
       "      <td>2</td>\n",
       "      <td>0</td>\n",
       "      <td>1</td>\n",
       "      <td>0</td>\n",
       "      <td>0.0%</td>\n",
       "      <td>0</td>\n",
       "      <td>NaN</td>\n",
       "      <td>0</td>\n",
       "      <td>0</td>\n",
       "      <td>0</td>\n",
       "      <td>0.0</td>\n",
       "      <td>0.0</td>\n",
       "      <td>0.0</td>\n",
       "      <td>0</td>\n",
       "      <td>False</td>\n",
       "      <td>False</td>\n",
       "    </tr>\n",
       "    <tr>\n",
       "      <th>504</th>\n",
       "      <td>505</td>\n",
       "      <td>Jake Tonges</td>\n",
       "      <td>CHI</td>\n",
       "      <td>23</td>\n",
       "      <td>TE</td>\n",
       "      <td>4</td>\n",
       "      <td>0</td>\n",
       "      <td>1</td>\n",
       "      <td>0</td>\n",
       "      <td>0.0%</td>\n",
       "      <td>0</td>\n",
       "      <td>NaN</td>\n",
       "      <td>0</td>\n",
       "      <td>0</td>\n",
       "      <td>0</td>\n",
       "      <td>0.0</td>\n",
       "      <td>0.0</td>\n",
       "      <td>0.0</td>\n",
       "      <td>0</td>\n",
       "      <td>False</td>\n",
       "      <td>False</td>\n",
       "    </tr>\n",
       "    <tr>\n",
       "      <th>505</th>\n",
       "      <td>506</td>\n",
       "      <td>DJ Turner</td>\n",
       "      <td>LVR</td>\n",
       "      <td>25</td>\n",
       "      <td>WR</td>\n",
       "      <td>9</td>\n",
       "      <td>0</td>\n",
       "      <td>1</td>\n",
       "      <td>0</td>\n",
       "      <td>0.0%</td>\n",
       "      <td>0</td>\n",
       "      <td>NaN</td>\n",
       "      <td>0</td>\n",
       "      <td>0</td>\n",
       "      <td>0</td>\n",
       "      <td>0.0</td>\n",
       "      <td>0.0</td>\n",
       "      <td>0.0</td>\n",
       "      <td>1</td>\n",
       "      <td>False</td>\n",
       "      <td>False</td>\n",
       "    </tr>\n",
       "    <tr>\n",
       "      <th>506</th>\n",
       "      <td>507</td>\n",
       "      <td>James Washington</td>\n",
       "      <td>DAL</td>\n",
       "      <td>26</td>\n",
       "      <td>WR</td>\n",
       "      <td>2</td>\n",
       "      <td>0</td>\n",
       "      <td>1</td>\n",
       "      <td>0</td>\n",
       "      <td>0.0%</td>\n",
       "      <td>0</td>\n",
       "      <td>NaN</td>\n",
       "      <td>0</td>\n",
       "      <td>0</td>\n",
       "      <td>0</td>\n",
       "      <td>0.0</td>\n",
       "      <td>0.0</td>\n",
       "      <td>0.0</td>\n",
       "      <td>0</td>\n",
       "      <td>False</td>\n",
       "      <td>False</td>\n",
       "    </tr>\n",
       "    <tr>\n",
       "      <th>507</th>\n",
       "      <td>508</td>\n",
       "      <td>Charlie Woerner</td>\n",
       "      <td>SFO</td>\n",
       "      <td>25</td>\n",
       "      <td>TE</td>\n",
       "      <td>17</td>\n",
       "      <td>2</td>\n",
       "      <td>2</td>\n",
       "      <td>0</td>\n",
       "      <td>0.0%</td>\n",
       "      <td>0</td>\n",
       "      <td>NaN</td>\n",
       "      <td>0</td>\n",
       "      <td>0</td>\n",
       "      <td>0</td>\n",
       "      <td>0.0</td>\n",
       "      <td>0.0</td>\n",
       "      <td>0.0</td>\n",
       "      <td>0</td>\n",
       "      <td>False</td>\n",
       "      <td>False</td>\n",
       "    </tr>\n",
       "  </tbody>\n",
       "</table>\n",
       "<p>508 rows × 21 columns</p>\n",
       "</div>"
      ],
      "text/plain": [
       "      rk            player   tm  age pos   g  gs  tgt  rec  ctch%   yds   y/r  \\\n",
       "0      1  Justin Jefferson  MIN   23  WR  17  17  184  128  69.6%  1809  14.1   \n",
       "1      2       Tyreek Hill  MIA   28  WR  17  17  170  119  70.0%  1710  14.4   \n",
       "2      3      Travis Kelce  KAN   33  TE  17  17  152  110  72.4%  1338  12.2   \n",
       "3      4      Stefon Diggs  BUF   29  WR  16  16  154  108  70.1%  1429  13.2   \n",
       "4      5     Austin Ekeler  LAC   27  RB  17  17  127  107  84.3%   722   6.7   \n",
       "..   ...               ...  ...  ...  ..  ..  ..  ...  ...    ...   ...   ...   \n",
       "503  504       Noah Togiai  PHI   25  TE   2   0    1    0   0.0%     0   NaN   \n",
       "504  505       Jake Tonges  CHI   23  TE   4   0    1    0   0.0%     0   NaN   \n",
       "505  506         DJ Turner  LVR   25  WR   9   0    1    0   0.0%     0   NaN   \n",
       "506  507  James Washington  DAL   26  WR   2   0    1    0   0.0%     0   NaN   \n",
       "507  508   Charlie Woerner  SFO   25  TE  17   2    2    0   0.0%     0   NaN   \n",
       "\n",
       "     td  1d  lng  y/tgt  r/g    y/g  fmb  all-pro  selected_pro_bowl  \n",
       "0     8  80   64    9.8  7.5  106.4    0     True               True  \n",
       "1     7  77   64   10.1  7.0  100.6    1     True               True  \n",
       "2    12  78   52    8.8  6.5   78.7    1     True               True  \n",
       "3    11  74   53    9.3  6.8   89.3    1    False               True  \n",
       "4     5  36   23    5.7  6.3   42.5    5    False              False  \n",
       "..   ..  ..  ...    ...  ...    ...  ...      ...                ...  \n",
       "503   0   0    0    0.0  0.0    0.0    0    False              False  \n",
       "504   0   0    0    0.0  0.0    0.0    0    False              False  \n",
       "505   0   0    0    0.0  0.0    0.0    1    False              False  \n",
       "506   0   0    0    0.0  0.0    0.0    0    False              False  \n",
       "507   0   0    0    0.0  0.0    0.0    0    False              False  \n",
       "\n",
       "[508 rows x 21 columns]"
      ]
     },
     "execution_count": 11,
     "metadata": {},
     "output_type": "execute_result"
    }
   ],
   "source": [
    "robo(url)"
   ]
  },
  {
   "cell_type": "code",
   "execution_count": 13,
   "id": "262dd299",
   "metadata": {
    "ExecuteTime": {
     "end_time": "2023-02-08T00:05:36.606153Z",
     "start_time": "2023-02-08T00:05:34.840080Z"
    }
   },
   "outputs": [
    {
     "name": "stderr",
     "output_type": "stream",
     "text": [
      "C:\\Users\\mateu\\AppData\\Local\\Temp\\ipykernel_10520\\284709308.py:2: FutureWarning: The default value of regex will change from True to False in a future version. In addition, single character regular expressions will *not* be treated as literal strings when regex=True.\n",
      "  dataframe['Player'] = dataframe['Player'].str.replace('*','')\n",
      "C:\\Users\\mateu\\AppData\\Local\\Temp\\ipykernel_10520\\284709308.py:3: FutureWarning: The default value of regex will change from True to False in a future version. In addition, single character regular expressions will *not* be treated as literal strings when regex=True.\n",
      "  dataframe['Player'] = dataframe['Player'].str.replace('+','')\n"
     ]
    },
    {
     "data": {
      "text/plain": [
       "508"
      ]
     },
     "execution_count": 13,
     "metadata": {},
     "output_type": "execute_result"
    }
   ],
   "source": [
    "db_server='pymysql'\n",
    "user='root'\n",
    "db_port = '3306'\n",
    "password = 'rootroot'\n",
    "ip = 'localhost'\n",
    "db_name = 'nflcopy'\n",
    "engine = sqlalchemy.create_engine(f'mysql+{db_server}://{user}:{password}@{ip}:{db_port}/{db_name}?charset=utf8')\n",
    "robo(url).to_sql(name_table, engine, index=False, if_exists='replace')"
   ]
  },
  {
   "cell_type": "code",
   "execution_count": null,
   "id": "663d88a5",
   "metadata": {},
   "outputs": [],
   "source": []
  }
 ],
 "metadata": {
  "kernelspec": {
   "display_name": "Python 3 (ipykernel)",
   "language": "python",
   "name": "python3"
  },
  "language_info": {
   "codemirror_mode": {
    "name": "ipython",
    "version": 3
   },
   "file_extension": ".py",
   "mimetype": "text/x-python",
   "name": "python",
   "nbconvert_exporter": "python",
   "pygments_lexer": "ipython3",
   "version": "3.9.13"
  },
  "toc": {
   "base_numbering": 1,
   "nav_menu": {},
   "number_sections": true,
   "sideBar": true,
   "skip_h1_title": false,
   "title_cell": "Table of Contents",
   "title_sidebar": "Contents",
   "toc_cell": false,
   "toc_position": {},
   "toc_section_display": true,
   "toc_window_display": false
  }
 },
 "nbformat": 4,
 "nbformat_minor": 5
}
