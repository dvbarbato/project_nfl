{
 "cells": [
  {
   "cell_type": "code",
   "execution_count": 13,
   "id": "3dc08e26",
   "metadata": {
    "ExecuteTime": {
     "end_time": "2023-02-10T14:19:43.480871Z",
     "start_time": "2023-02-10T14:19:43.475557Z"
    }
   },
   "outputs": [],
   "source": [
    "import pandas as pd\n",
    "import numpy as np\n",
    "import requests, time\n",
    "from bs4 import BeautifulSoup\n",
    "import sqlalchemy\n",
    "\n",
    "pd.set_option('display.max_columns', None)"
   ]
  },
  {
   "cell_type": "code",
   "execution_count": 14,
   "id": "533861e3",
   "metadata": {
    "ExecuteTime": {
     "end_time": "2023-02-10T14:19:43.488411Z",
     "start_time": "2023-02-10T14:19:43.483857Z"
    }
   },
   "outputs": [],
   "source": [
    "name_table = 'stadiums'"
   ]
  },
  {
   "cell_type": "code",
   "execution_count": 15,
   "id": "ce47e84a",
   "metadata": {
    "ExecuteTime": {
     "end_time": "2023-02-10T14:19:43.493413Z",
     "start_time": "2023-02-10T14:19:43.490412Z"
    }
   },
   "outputs": [],
   "source": [
    "url = 'http://pfref.com/pi/share/a6VZW'"
   ]
  },
  {
   "cell_type": "code",
   "execution_count": 16,
   "id": "b91c8e08",
   "metadata": {
    "ExecuteTime": {
     "end_time": "2023-02-10T14:19:43.498615Z",
     "start_time": "2023-02-10T14:19:43.495414Z"
    },
    "cell_style": "center"
   },
   "outputs": [],
   "source": [
    "def read_html(url):\n",
    "    pd.read_html(url)\n",
    "   \n",
    "    return pd.read_html(url)"
   ]
  },
  {
   "cell_type": "code",
   "execution_count": 17,
   "id": "9ec5609c",
   "metadata": {
    "ExecuteTime": {
     "end_time": "2023-02-10T14:19:43.503131Z",
     "start_time": "2023-02-10T14:19:43.499613Z"
    },
    "cell_style": "center"
   },
   "outputs": [],
   "source": [
    "def convert_df(lista):\n",
    "    lista[0]\n",
    "    \n",
    "    return lista[0]"
   ]
  },
  {
   "cell_type": "code",
   "execution_count": 18,
   "id": "b73cb70f",
   "metadata": {
    "ExecuteTime": {
     "end_time": "2023-02-10T14:19:43.508649Z",
     "start_time": "2023-02-10T14:19:43.504132Z"
    }
   },
   "outputs": [],
   "source": [
    "# def rm_unnamed_col(dado):\n",
    "#     dt = dado.rename(columns={'Yds.1':'Yds_sk'})\n",
    "#     return dt"
   ]
  },
  {
   "cell_type": "code",
   "execution_count": 19,
   "id": "31ea1a80",
   "metadata": {
    "ExecuteTime": {
     "end_time": "2023-02-10T14:19:43.517179Z",
     "start_time": "2023-02-10T14:19:43.510657Z"
    },
    "cell_style": "center"
   },
   "outputs": [],
   "source": [
    "# def add_col_characters(dataframe):\n",
    "#     dataframe.loc[:,'All-Pro'] = dataframe['Player'].str.contains('+', regex=False)\n",
    "#     dataframe.loc[:,'Selected_Pro_Bowl'] = dataframe['Player'].str.contains('*', regex=False)\n",
    "   \n",
    "#     return dataframe"
   ]
  },
  {
   "cell_type": "code",
   "execution_count": 20,
   "id": "6e920cc2",
   "metadata": {
    "ExecuteTime": {
     "end_time": "2023-02-10T14:19:43.526196Z",
     "start_time": "2023-02-10T14:19:43.520189Z"
    },
    "cell_style": "center"
   },
   "outputs": [],
   "source": [
    "# def clean_col_player(dataframe):\n",
    "#     dataframe['Player'] = dataframe['Player'].str.replace('*','')\n",
    "#     dataframe['Player'] = dataframe['Player'].str.replace('+','')\n",
    "    \n",
    "#     return dataframe\n",
    "  "
   ]
  },
  {
   "cell_type": "code",
   "execution_count": 21,
   "id": "c8e8ff12",
   "metadata": {
    "ExecuteTime": {
     "end_time": "2023-02-10T14:19:43.534453Z",
     "start_time": "2023-02-10T14:19:43.528407Z"
    },
    "cell_style": "center"
   },
   "outputs": [],
   "source": [
    "def limpar_todas_coluna(dataframe):\n",
    "    dataframe.columns = [(c.lower().strip()) for c in dataframe.columns]\n",
    "    \n",
    "    return dataframe.columns"
   ]
  },
  {
   "cell_type": "code",
   "execution_count": 22,
   "id": "c44b412e",
   "metadata": {
    "ExecuteTime": {
     "end_time": "2023-02-10T14:19:43.542489Z",
     "start_time": "2023-02-10T14:19:43.537407Z"
    }
   },
   "outputs": [],
   "source": [
    "def robo(url):\n",
    "    lista = read_html(url)\n",
    "    converter_em_dataframe = convert_df(lista)\n",
    "    #tirar_nomes_coluna= rm_unnamed_col(converter_em_dataframe)\n",
    "    #adicionar_colunas_novas = add_col_characters(tirar_nomes_coluna)\n",
    "    #limpar_coluna_player = clean_col_player(adicionar_colunas_novas)\n",
    "    dataframe_final = limpar_todas_coluna(converter_em_dataframe)\n",
    "    \n",
    "    \n",
    "    \n",
    "    return converter_em_dataframe"
   ]
  },
  {
   "cell_type": "code",
   "execution_count": 23,
   "id": "e9013e51",
   "metadata": {
    "ExecuteTime": {
     "end_time": "2023-02-10T14:19:44.838257Z",
     "start_time": "2023-02-10T14:19:43.544488Z"
    },
    "scrolled": true
   },
   "outputs": [
    {
     "data": {
      "text/html": [
       "<div>\n",
       "<style scoped>\n",
       "    .dataframe tbody tr th:only-of-type {\n",
       "        vertical-align: middle;\n",
       "    }\n",
       "\n",
       "    .dataframe tbody tr th {\n",
       "        vertical-align: top;\n",
       "    }\n",
       "\n",
       "    .dataframe thead th {\n",
       "        text-align: right;\n",
       "    }\n",
       "</style>\n",
       "<table border=\"1\" class=\"dataframe\">\n",
       "  <thead>\n",
       "    <tr style=\"text-align: right;\">\n",
       "      <th></th>\n",
       "      <th>stadium name</th>\n",
       "      <th>from</th>\n",
       "      <th>to</th>\n",
       "      <th>g</th>\n",
       "      <th>city</th>\n",
       "      <th>state</th>\n",
       "      <th>primary team(s)</th>\n",
       "    </tr>\n",
       "  </thead>\n",
       "  <tbody>\n",
       "    <tr>\n",
       "      <th>0</th>\n",
       "      <td>Allegiant Stadium</td>\n",
       "      <td>2020.0</td>\n",
       "      <td>2022.0</td>\n",
       "      <td>28</td>\n",
       "      <td>Las Vegas</td>\n",
       "      <td>NV</td>\n",
       "      <td>Las Vegas Raiders</td>\n",
       "    </tr>\n",
       "    <tr>\n",
       "      <th>1</th>\n",
       "      <td>Allianz Arena</td>\n",
       "      <td>2022.0</td>\n",
       "      <td>2022.0</td>\n",
       "      <td>1</td>\n",
       "      <td>Munich</td>\n",
       "      <td>GER</td>\n",
       "      <td>NaN</td>\n",
       "    </tr>\n",
       "    <tr>\n",
       "      <th>2</th>\n",
       "      <td>AT&amp;T Stadium</td>\n",
       "      <td>2009.0</td>\n",
       "      <td>2022.0</td>\n",
       "      <td>121</td>\n",
       "      <td>Arlington</td>\n",
       "      <td>TX</td>\n",
       "      <td>Dallas Cowboys</td>\n",
       "    </tr>\n",
       "    <tr>\n",
       "      <th>3</th>\n",
       "      <td>Azteca Stadium</td>\n",
       "      <td>2005.0</td>\n",
       "      <td>2022.0</td>\n",
       "      <td>5</td>\n",
       "      <td>Mexico City</td>\n",
       "      <td>MX</td>\n",
       "      <td>NaN</td>\n",
       "    </tr>\n",
       "    <tr>\n",
       "      <th>4</th>\n",
       "      <td>Bank of America Stadium</td>\n",
       "      <td>1996.0</td>\n",
       "      <td>2022.0</td>\n",
       "      <td>225</td>\n",
       "      <td>Charlotte</td>\n",
       "      <td>NC</td>\n",
       "      <td>Carolina Panthers</td>\n",
       "    </tr>\n",
       "    <tr>\n",
       "      <th>...</th>\n",
       "      <td>...</td>\n",
       "      <td>...</td>\n",
       "      <td>...</td>\n",
       "      <td>...</td>\n",
       "      <td>...</td>\n",
       "      <td>...</td>\n",
       "      <td>...</td>\n",
       "    </tr>\n",
       "    <tr>\n",
       "      <th>186</th>\n",
       "      <td>Pyott's Park</td>\n",
       "      <td>1920.0</td>\n",
       "      <td>1920.0</td>\n",
       "      <td>1</td>\n",
       "      <td>Chicago</td>\n",
       "      <td>IL</td>\n",
       "      <td>NaN</td>\n",
       "    </tr>\n",
       "    <tr>\n",
       "      <th>187</th>\n",
       "      <td>St. Rita's Stadium</td>\n",
       "      <td>1920.0</td>\n",
       "      <td>1920.0</td>\n",
       "      <td>1</td>\n",
       "      <td>Chicago</td>\n",
       "      <td>IL</td>\n",
       "      <td>NaN</td>\n",
       "    </tr>\n",
       "    <tr>\n",
       "      <th>188</th>\n",
       "      <td>Weiss Field</td>\n",
       "      <td>1920.0</td>\n",
       "      <td>1920.0</td>\n",
       "      <td>1</td>\n",
       "      <td>New Haven</td>\n",
       "      <td>CT</td>\n",
       "      <td>NaN</td>\n",
       "    </tr>\n",
       "    <tr>\n",
       "      <th>189</th>\n",
       "      <td>Aloha Stadium</td>\n",
       "      <td>NaN</td>\n",
       "      <td>NaN</td>\n",
       "      <td>0</td>\n",
       "      <td>Honolulu</td>\n",
       "      <td>HI</td>\n",
       "      <td>NaN</td>\n",
       "    </tr>\n",
       "    <tr>\n",
       "      <th>190</th>\n",
       "      <td>IG Field</td>\n",
       "      <td>NaN</td>\n",
       "      <td>NaN</td>\n",
       "      <td>0</td>\n",
       "      <td>Winnipeg</td>\n",
       "      <td>MB</td>\n",
       "      <td>NaN</td>\n",
       "    </tr>\n",
       "  </tbody>\n",
       "</table>\n",
       "<p>191 rows × 7 columns</p>\n",
       "</div>"
      ],
      "text/plain": [
       "                stadium name    from      to    g         city state  \\\n",
       "0          Allegiant Stadium  2020.0  2022.0   28    Las Vegas    NV   \n",
       "1              Allianz Arena  2022.0  2022.0    1       Munich   GER   \n",
       "2               AT&T Stadium  2009.0  2022.0  121    Arlington    TX   \n",
       "3             Azteca Stadium  2005.0  2022.0    5  Mexico City    MX   \n",
       "4    Bank of America Stadium  1996.0  2022.0  225    Charlotte    NC   \n",
       "..                       ...     ...     ...  ...          ...   ...   \n",
       "186             Pyott's Park  1920.0  1920.0    1      Chicago    IL   \n",
       "187       St. Rita's Stadium  1920.0  1920.0    1      Chicago    IL   \n",
       "188              Weiss Field  1920.0  1920.0    1    New Haven    CT   \n",
       "189            Aloha Stadium     NaN     NaN    0     Honolulu    HI   \n",
       "190                 IG Field     NaN     NaN    0     Winnipeg    MB   \n",
       "\n",
       "       primary team(s)  \n",
       "0    Las Vegas Raiders  \n",
       "1                  NaN  \n",
       "2       Dallas Cowboys  \n",
       "3                  NaN  \n",
       "4    Carolina Panthers  \n",
       "..                 ...  \n",
       "186                NaN  \n",
       "187                NaN  \n",
       "188                NaN  \n",
       "189                NaN  \n",
       "190                NaN  \n",
       "\n",
       "[191 rows x 7 columns]"
      ]
     },
     "execution_count": 23,
     "metadata": {},
     "output_type": "execute_result"
    }
   ],
   "source": [
    "robo(url)"
   ]
  },
  {
   "cell_type": "code",
   "execution_count": 24,
   "id": "262dd299",
   "metadata": {
    "ExecuteTime": {
     "end_time": "2023-02-10T14:19:46.288583Z",
     "start_time": "2023-02-10T14:19:44.840299Z"
    }
   },
   "outputs": [
    {
     "data": {
      "text/plain": [
       "191"
      ]
     },
     "execution_count": 24,
     "metadata": {},
     "output_type": "execute_result"
    }
   ],
   "source": [
    "db_server='pymysql'\n",
    "user='root'\n",
    "db_port = '3306'\n",
    "password = ''\n",
    "ip = 'localhost'\n",
    "db_name = 'nflcopy'\n",
    "engine = sqlalchemy.create_engine(f'mysql+{db_server}://{user}:{password}@{ip}:{db_port}/{db_name}?charset=utf8')\n",
    "robo(url).to_sql(name_table, engine, index=False, if_exists='replace')"
   ]
  },
  {
   "cell_type": "code",
   "execution_count": null,
   "id": "663d88a5",
   "metadata": {},
   "outputs": [],
   "source": []
  }
 ],
 "metadata": {
  "kernelspec": {
   "display_name": "Python 3 (ipykernel)",
   "language": "python",
   "name": "python3"
  },
  "language_info": {
   "codemirror_mode": {
    "name": "ipython",
    "version": 3
   },
   "file_extension": ".py",
   "mimetype": "text/x-python",
   "name": "python",
   "nbconvert_exporter": "python",
   "pygments_lexer": "ipython3",
   "version": "3.9.13"
  },
  "toc": {
   "base_numbering": 1,
   "nav_menu": {},
   "number_sections": true,
   "sideBar": true,
   "skip_h1_title": false,
   "title_cell": "Table of Contents",
   "title_sidebar": "Contents",
   "toc_cell": false,
   "toc_position": {},
   "toc_section_display": true,
   "toc_window_display": false
  },
  "varInspector": {
   "cols": {
    "lenName": 16,
    "lenType": 16,
    "lenVar": 40
   },
   "kernels_config": {
    "python": {
     "delete_cmd_postfix": "",
     "delete_cmd_prefix": "del ",
     "library": "var_list.py",
     "varRefreshCmd": "print(var_dic_list())"
    },
    "r": {
     "delete_cmd_postfix": ") ",
     "delete_cmd_prefix": "rm(",
     "library": "var_list.r",
     "varRefreshCmd": "cat(var_dic_list()) "
    }
   },
   "types_to_exclude": [
    "module",
    "function",
    "builtin_function_or_method",
    "instance",
    "_Feature"
   ],
   "window_display": false
  }
 },
 "nbformat": 4,
 "nbformat_minor": 5
}
