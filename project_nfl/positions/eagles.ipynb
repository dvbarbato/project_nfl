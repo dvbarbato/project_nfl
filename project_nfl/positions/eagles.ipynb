{
 "cells": [
  {
   "cell_type": "code",
   "execution_count": 1,
   "id": "cecb9b29",
   "metadata": {
    "ExecuteTime": {
     "end_time": "2023-02-12T20:51:36.092360Z",
     "start_time": "2023-02-12T20:51:35.285314Z"
    }
   },
   "outputs": [],
   "source": [
    "import pandas as pd\n",
    "import numpy as np\n",
    "import requests, time\n",
    "from bs4 import BeautifulSoup\n",
    "import sqlalchemy\n",
    "\n",
    "pd.set_option('display.max_columns', None)"
   ]
  },
  {
   "cell_type": "code",
   "execution_count": 2,
   "id": "bd106640",
   "metadata": {
    "ExecuteTime": {
     "end_time": "2023-02-12T20:51:36.122450Z",
     "start_time": "2023-02-12T20:51:36.099969Z"
    }
   },
   "outputs": [],
   "source": [
    "name_table = 'eagles'"
   ]
  },
  {
   "cell_type": "code",
   "execution_count": 3,
   "id": "4b5faac7",
   "metadata": {
    "ExecuteTime": {
     "end_time": "2023-02-12T20:51:36.137908Z",
     "start_time": "2023-02-12T20:51:36.123454Z"
    }
   },
   "outputs": [],
   "source": [
    "url = 'http://pfref.com/pi/share/NqRiY'"
   ]
  },
  {
   "cell_type": "code",
   "execution_count": 4,
   "id": "a620fd54",
   "metadata": {
    "ExecuteTime": {
     "end_time": "2023-02-12T20:51:36.153390Z",
     "start_time": "2023-02-12T20:51:36.140907Z"
    }
   },
   "outputs": [],
   "source": [
    "def read_html(url):\n",
    "    pd.read_html(url)\n",
    "   \n",
    "    return pd.read_html(url)\n",
    "\n",
    "\n",
    "def convert_df(lista):\n",
    "    lista[0]\n",
    "    \n",
    "    return lista[0]\n",
    "\n",
    "\n",
    "def rm_unnamed_col(dado):\n",
    "    dt = dado.rename(columns={'Unnamed: 0_level_0':'',\n",
    "                        'Unnamed: 1_level_0': '', \n",
    "                        'Unnamed: 2_level_0': '',\n",
    "                        'Unnamed: 3_level_0': '',\n",
    "                        'Unnamed: 4_level_0': '',\n",
    "                        'Unnamed: 5_level_0': '',\n",
    "                        'Unnamed: 6_level_0': '',\n",
    "                        'Unnamed: 10_level_0': '',\n",
    "                        'Unnamed: 23_level_0': '',\n",
    "                        'Unnamed: 17_level_0': '',\n",
    "                              \n",
    "                             })\n",
    "    return dt\n",
    "\n",
    "# def add_col_characters(dataframe):\n",
    "#     dataframe.loc[:,'All-Pro'] = dataframe['','Player'].str.contains('+', regex=False)\n",
    "#     dataframe.loc[:,'Selected_Pro_Bowl'] = dataframe['','Player'].str.contains('*', regex=False)\n",
    "   \n",
    "#     return dataframe\n",
    "\n",
    "def clean_col_player(dataframe):\n",
    "    dataframe['','Tm'] = dataframe['', 'Tm'].str.replace('*','')\n",
    "    #dataframe['','Player'] = dataframe['', 'Player'].str.replace('+','')\n",
    "    \n",
    "    return dataframe\n",
    "\n",
    "def limpar_todas_coluna(dataframe):\n",
    "    dataframe.columns = [(c.lower().strip() + ' '+ d.lower().strip()).strip() for c,d in dataframe.columns]\n",
    "    \n",
    "    return dataframe.columns"
   ]
  },
  {
   "cell_type": "code",
   "execution_count": 5,
   "id": "9aae0908",
   "metadata": {
    "ExecuteTime": {
     "end_time": "2023-02-12T20:51:36.168431Z",
     "start_time": "2023-02-12T20:51:36.155917Z"
    }
   },
   "outputs": [],
   "source": [
    "def robo(url):\n",
    "    lista = read_html(url)\n",
    "    converter_em_dataframe = convert_df(lista)\n",
    "    tirar_nomes_coluna= rm_unnamed_col(converter_em_dataframe)\n",
    "    #adicionar_colunas_novas = add_col_characters(tirar_nomes_coluna)\n",
    "    limpar_coluna_player = clean_col_player(tirar_nomes_coluna)\n",
    "    dataframe_final = limpar_todas_coluna(limpar_coluna_player)\n",
    "    \n",
    "    \n",
    "    \n",
    "    \n",
    "    \n",
    "    return tirar_nomes_coluna"
   ]
  },
  {
   "cell_type": "code",
   "execution_count": 6,
   "id": "6b560403",
   "metadata": {
    "ExecuteTime": {
     "end_time": "2023-02-12T20:51:37.192970Z",
     "start_time": "2023-02-12T20:51:36.170417Z"
    },
    "scrolled": false
   },
   "outputs": [
    {
     "name": "stderr",
     "output_type": "stream",
     "text": [
      "C:\\Users\\mateu\\AppData\\Local\\Temp\\ipykernel_22956\\1727783284.py:35: FutureWarning: The default value of regex will change from True to False in a future version. In addition, single character regular expressions will *not* be treated as literal strings when regex=True.\n",
      "  dataframe['','Tm'] = dataframe['', 'Tm'].str.replace('*','')\n"
     ]
    }
   ],
   "source": [
    "df = robo(url)"
   ]
  },
  {
   "cell_type": "code",
   "execution_count": 7,
   "id": "4bfce733",
   "metadata": {
    "ExecuteTime": {
     "end_time": "2023-02-12T20:51:37.207837Z",
     "start_time": "2023-02-12T20:51:37.193763Z"
    }
   },
   "outputs": [],
   "source": [
    "df2 = df.rename(columns={'tm': 'team_name',})"
   ]
  },
  {
   "cell_type": "code",
   "execution_count": 8,
   "id": "ffd77619",
   "metadata": {
    "ExecuteTime": {
     "end_time": "2023-02-12T20:51:37.238828Z",
     "start_time": "2023-02-12T20:51:37.209789Z"
    }
   },
   "outputs": [
    {
     "data": {
      "text/html": [
       "<div>\n",
       "<style scoped>\n",
       "    .dataframe tbody tr th:only-of-type {\n",
       "        vertical-align: middle;\n",
       "    }\n",
       "\n",
       "    .dataframe tbody tr th {\n",
       "        vertical-align: top;\n",
       "    }\n",
       "\n",
       "    .dataframe thead th {\n",
       "        text-align: right;\n",
       "    }\n",
       "</style>\n",
       "<table border=\"1\" class=\"dataframe\">\n",
       "  <thead>\n",
       "    <tr style=\"text-align: right;\">\n",
       "      <th></th>\n",
       "      <th>year</th>\n",
       "      <th>lg</th>\n",
       "      <th>team_name</th>\n",
       "      <th>w</th>\n",
       "      <th>l</th>\n",
       "      <th>t</th>\n",
       "      <th>div. finish</th>\n",
       "      <th>poin pf</th>\n",
       "      <th>poin pa</th>\n",
       "      <th>poin pd</th>\n",
       "      <th>coaches</th>\n",
       "      <th>top av</th>\n",
       "      <th>top passer</th>\n",
       "      <th>top rusher</th>\n",
       "      <th>top receiver</th>\n",
       "      <th>off pts</th>\n",
       "      <th>off yds</th>\n",
       "      <th>def pts</th>\n",
       "      <th>def yds</th>\n",
       "      <th>over t/g</th>\n",
       "      <th>over pts±</th>\n",
       "      <th>over yds±</th>\n",
       "      <th>over out of</th>\n",
       "      <th>sim mov</th>\n",
       "      <th>sim sos</th>\n",
       "      <th>sim srs</th>\n",
       "      <th>sim osrs</th>\n",
       "      <th>sim dsrs</th>\n",
       "    </tr>\n",
       "  </thead>\n",
       "  <tbody>\n",
       "    <tr>\n",
       "      <th>0</th>\n",
       "      <td>2022</td>\n",
       "      <td>NFL</td>\n",
       "      <td>Philadelphia Eagles</td>\n",
       "      <td>14</td>\n",
       "      <td>3</td>\n",
       "      <td>0</td>\n",
       "      <td>1st of 4</td>\n",
       "      <td>477</td>\n",
       "      <td>344</td>\n",
       "      <td>133</td>\n",
       "      <td>Sirianni</td>\n",
       "      <td>Hurts</td>\n",
       "      <td>Hurts</td>\n",
       "      <td>Sanders</td>\n",
       "      <td>Brown</td>\n",
       "      <td>3</td>\n",
       "      <td>3</td>\n",
       "      <td>8</td>\n",
       "      <td>2</td>\n",
       "      <td>3</td>\n",
       "      <td>3</td>\n",
       "      <td>1</td>\n",
       "      <td>32</td>\n",
       "      <td>7.8</td>\n",
       "      <td>-1.3</td>\n",
       "      <td>6.5</td>\n",
       "      <td>5.8</td>\n",
       "      <td>0.7</td>\n",
       "    </tr>\n",
       "  </tbody>\n",
       "</table>\n",
       "</div>"
      ],
      "text/plain": [
       "   year   lg            team_name   w  l  t div. finish  poin pf  poin pa  \\\n",
       "0  2022  NFL  Philadelphia Eagles  14  3  0    1st of 4      477      344   \n",
       "\n",
       "   poin pd   coaches top av top passer top rusher top receiver  off pts  \\\n",
       "0      133  Sirianni  Hurts      Hurts    Sanders        Brown        3   \n",
       "\n",
       "   off yds  def pts  def yds  over t/g  over pts±  over yds±  over out of  \\\n",
       "0        3        8        2         3          3          1           32   \n",
       "\n",
       "   sim mov  sim sos  sim srs  sim osrs  sim dsrs  \n",
       "0      7.8     -1.3      6.5       5.8       0.7  "
      ]
     },
     "execution_count": 8,
     "metadata": {},
     "output_type": "execute_result"
    }
   ],
   "source": [
    "df2.head()"
   ]
  },
  {
   "cell_type": "code",
   "execution_count": 9,
   "id": "51693bb9",
   "metadata": {
    "ExecuteTime": {
     "end_time": "2023-02-12T20:51:37.365284Z",
     "start_time": "2023-02-12T20:51:37.240829Z"
    }
   },
   "outputs": [
    {
     "data": {
      "text/plain": [
       "1"
      ]
     },
     "execution_count": 9,
     "metadata": {},
     "output_type": "execute_result"
    }
   ],
   "source": [
    "db_server='pymysql'\n",
    "user='root'\n",
    "db_port = '3306'\n",
    "password = ''\n",
    "ip = 'localhost'\n",
    "db_name = 'nflcopy'\n",
    "engine = sqlalchemy.create_engine(f'mysql+{db_server}://{user}:{password}@{ip}:{db_port}/{db_name}?charset=utf8')\n",
    "df2.to_sql(name_table, engine, index=False, if_exists='replace')"
   ]
  },
  {
   "cell_type": "code",
   "execution_count": null,
   "id": "c0dee3f8",
   "metadata": {},
   "outputs": [],
   "source": []
  }
 ],
 "metadata": {
  "kernelspec": {
   "display_name": "Python 3 (ipykernel)",
   "language": "python",
   "name": "python3"
  },
  "language_info": {
   "codemirror_mode": {
    "name": "ipython",
    "version": 3
   },
   "file_extension": ".py",
   "mimetype": "text/x-python",
   "name": "python",
   "nbconvert_exporter": "python",
   "pygments_lexer": "ipython3",
   "version": "3.9.13"
  },
  "toc": {
   "base_numbering": 1,
   "nav_menu": {},
   "number_sections": true,
   "sideBar": true,
   "skip_h1_title": false,
   "title_cell": "Table of Contents",
   "title_sidebar": "Contents",
   "toc_cell": false,
   "toc_position": {},
   "toc_section_display": true,
   "toc_window_display": false
  },
  "varInspector": {
   "cols": {
    "lenName": 16,
    "lenType": 16,
    "lenVar": 40
   },
   "kernels_config": {
    "python": {
     "delete_cmd_postfix": "",
     "delete_cmd_prefix": "del ",
     "library": "var_list.py",
     "varRefreshCmd": "print(var_dic_list())"
    },
    "r": {
     "delete_cmd_postfix": ") ",
     "delete_cmd_prefix": "rm(",
     "library": "var_list.r",
     "varRefreshCmd": "cat(var_dic_list()) "
    }
   },
   "types_to_exclude": [
    "module",
    "function",
    "builtin_function_or_method",
    "instance",
    "_Feature"
   ],
   "window_display": false
  }
 },
 "nbformat": 4,
 "nbformat_minor": 5
}
