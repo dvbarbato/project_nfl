{
 "cells": [
  {
   "cell_type": "code",
   "execution_count": 1,
   "id": "3dc08e26",
   "metadata": {
    "ExecuteTime": {
     "end_time": "2023-02-10T14:35:35.198679Z",
     "start_time": "2023-02-10T14:35:34.285713Z"
    }
   },
   "outputs": [],
   "source": [
    "import pandas as pd\n",
    "import numpy as np\n",
    "import requests, time\n",
    "from bs4 import BeautifulSoup\n",
    "import sqlalchemy\n",
    "\n",
    "pd.set_option('display.max_columns', None)"
   ]
  },
  {
   "cell_type": "code",
   "execution_count": 2,
   "id": "533861e3",
   "metadata": {
    "ExecuteTime": {
     "end_time": "2023-02-10T14:35:35.205684Z",
     "start_time": "2023-02-10T14:35:35.200669Z"
    }
   },
   "outputs": [],
   "source": [
    "name_table = 'philadelphia_eagles'"
   ]
  },
  {
   "cell_type": "code",
   "execution_count": 3,
   "id": "ce47e84a",
   "metadata": {
    "ExecuteTime": {
     "end_time": "2023-02-10T14:35:35.213679Z",
     "start_time": "2023-02-10T14:35:35.207671Z"
    }
   },
   "outputs": [],
   "source": [
    "url = 'http://pfref.com/pi/share/ovtxj'"
   ]
  },
  {
   "cell_type": "code",
   "execution_count": 4,
   "id": "b91c8e08",
   "metadata": {
    "ExecuteTime": {
     "end_time": "2023-02-10T14:35:35.222190Z",
     "start_time": "2023-02-10T14:35:35.218182Z"
    },
    "cell_style": "center"
   },
   "outputs": [],
   "source": [
    "def read_html(url):\n",
    "    pd.read_html(url)\n",
    "   \n",
    "    return pd.read_html(url)"
   ]
  },
  {
   "cell_type": "code",
   "execution_count": 5,
   "id": "9ec5609c",
   "metadata": {
    "ExecuteTime": {
     "end_time": "2023-02-10T14:35:35.229708Z",
     "start_time": "2023-02-10T14:35:35.224752Z"
    },
    "cell_style": "center"
   },
   "outputs": [],
   "source": [
    "def convert_df(lista):\n",
    "    lista[0]\n",
    "    \n",
    "    return lista[0]"
   ]
  },
  {
   "cell_type": "code",
   "execution_count": 6,
   "id": "b73cb70f",
   "metadata": {
    "ExecuteTime": {
     "end_time": "2023-02-10T14:35:35.235736Z",
     "start_time": "2023-02-10T14:35:35.231707Z"
    }
   },
   "outputs": [],
   "source": [
    "# def rm_unnamed_col(dado):\n",
    "#     dt = dado.rename(columns={'Yds.1':'Yds_sk'})\n",
    "#     return dt"
   ]
  },
  {
   "cell_type": "code",
   "execution_count": 7,
   "id": "31ea1a80",
   "metadata": {
    "ExecuteTime": {
     "end_time": "2023-02-10T14:35:35.244303Z",
     "start_time": "2023-02-10T14:35:35.238717Z"
    },
    "cell_style": "center"
   },
   "outputs": [],
   "source": [
    "# def add_col_characters(dataframe):\n",
    "#     dataframe.loc[:,'All-Pro'] = dataframe['Player'].str.contains('+', regex=False)\n",
    "#     dataframe.loc[:,'Selected_Pro_Bowl'] = dataframe['Player'].str.contains('*', regex=False)\n",
    "   \n",
    "#     return dataframe"
   ]
  },
  {
   "cell_type": "code",
   "execution_count": 8,
   "id": "6e920cc2",
   "metadata": {
    "ExecuteTime": {
     "end_time": "2023-02-10T14:35:35.251790Z",
     "start_time": "2023-02-10T14:35:35.247226Z"
    },
    "cell_style": "center"
   },
   "outputs": [],
   "source": [
    "# def clean_col_player(dataframe):\n",
    "#     dataframe['Player'] = dataframe['Player'].str.replace('*','')\n",
    "#     dataframe['Player'] = dataframe['Player'].str.replace('+','')\n",
    "    \n",
    "#     return dataframe\n",
    "  "
   ]
  },
  {
   "cell_type": "code",
   "execution_count": 9,
   "id": "c8e8ff12",
   "metadata": {
    "ExecuteTime": {
     "end_time": "2023-02-10T14:35:35.260304Z",
     "start_time": "2023-02-10T14:35:35.254284Z"
    },
    "cell_style": "center"
   },
   "outputs": [],
   "source": [
    "def limpar_todas_coluna(dataframe):\n",
    "    dataframe.columns = [(c.lower().strip()) for c in dataframe.columns]\n",
    "    \n",
    "    return dataframe.columns"
   ]
  },
  {
   "cell_type": "code",
   "execution_count": 10,
   "id": "c44b412e",
   "metadata": {
    "ExecuteTime": {
     "end_time": "2023-02-10T14:35:35.269813Z",
     "start_time": "2023-02-10T14:35:35.265318Z"
    }
   },
   "outputs": [],
   "source": [
    "def robo(url):\n",
    "    lista = read_html(url)\n",
    "    converter_em_dataframe = convert_df(lista)\n",
    "    #tirar_nomes_coluna= rm_unnamed_col(converter_em_dataframe)\n",
    "    #adicionar_colunas_novas = add_col_characters(tirar_nomes_coluna)\n",
    "    #limpar_coluna_player = clean_col_player(adicionar_colunas_novas)\n",
    "    dataframe_final = limpar_todas_coluna(converter_em_dataframe)\n",
    "    \n",
    "    \n",
    "    \n",
    "    return converter_em_dataframe"
   ]
  },
  {
   "cell_type": "code",
   "execution_count": 11,
   "id": "e9013e51",
   "metadata": {
    "ExecuteTime": {
     "end_time": "2023-02-10T14:35:37.612747Z",
     "start_time": "2023-02-10T14:35:35.272812Z"
    },
    "scrolled": true
   },
   "outputs": [
    {
     "data": {
      "text/html": [
       "<div>\n",
       "<style scoped>\n",
       "    .dataframe tbody tr th:only-of-type {\n",
       "        vertical-align: middle;\n",
       "    }\n",
       "\n",
       "    .dataframe tbody tr th {\n",
       "        vertical-align: top;\n",
       "    }\n",
       "\n",
       "    .dataframe thead th {\n",
       "        text-align: right;\n",
       "    }\n",
       "</style>\n",
       "<table border=\"1\" class=\"dataframe\">\n",
       "  <thead>\n",
       "    <tr style=\"text-align: right;\">\n",
       "      <th></th>\n",
       "      <th>no.</th>\n",
       "      <th>player</th>\n",
       "      <th>age</th>\n",
       "      <th>pos</th>\n",
       "      <th>g</th>\n",
       "      <th>gs</th>\n",
       "      <th>wt</th>\n",
       "      <th>ht</th>\n",
       "      <th>college/univ</th>\n",
       "      <th>birthdate</th>\n",
       "      <th>yrs</th>\n",
       "      <th>av</th>\n",
       "      <th>drafted (tm/rnd/yr)</th>\n",
       "    </tr>\n",
       "  </thead>\n",
       "  <tbody>\n",
       "    <tr>\n",
       "      <th>0</th>\n",
       "      <td>32.0</td>\n",
       "      <td>Reed Blankenship</td>\n",
       "      <td>23.0</td>\n",
       "      <td>S</td>\n",
       "      <td>10</td>\n",
       "      <td>4.0</td>\n",
       "      <td>196.0</td>\n",
       "      <td>6-1</td>\n",
       "      <td>Middle Tenn. St.</td>\n",
       "      <td>3/2/1999</td>\n",
       "      <td>Rook</td>\n",
       "      <td>2.0</td>\n",
       "      <td>NaN</td>\n",
       "    </tr>\n",
       "    <tr>\n",
       "      <th>1</th>\n",
       "      <td>19.0</td>\n",
       "      <td>Ian Book</td>\n",
       "      <td>24.0</td>\n",
       "      <td>QB</td>\n",
       "      <td>0</td>\n",
       "      <td>0.0</td>\n",
       "      <td>206.0</td>\n",
       "      <td>6-0</td>\n",
       "      <td>Notre Dame</td>\n",
       "      <td>3/30/1998</td>\n",
       "      <td>1</td>\n",
       "      <td>NaN</td>\n",
       "      <td>New Orleans Saints / 4th / 133rd pick / 2021</td>\n",
       "    </tr>\n",
       "    <tr>\n",
       "      <th>2</th>\n",
       "      <td>24.0</td>\n",
       "      <td>James Bradberry</td>\n",
       "      <td>29.0</td>\n",
       "      <td>CB</td>\n",
       "      <td>17</td>\n",
       "      <td>17.0</td>\n",
       "      <td>212.0</td>\n",
       "      <td>6-1</td>\n",
       "      <td>Arkansas St.,Samford</td>\n",
       "      <td>8/4/1993</td>\n",
       "      <td>6</td>\n",
       "      <td>11.0</td>\n",
       "      <td>Carolina Panthers / 2nd / 62nd pick / 2016</td>\n",
       "    </tr>\n",
       "    <tr>\n",
       "      <th>3</th>\n",
       "      <td>11.0</td>\n",
       "      <td>A.J. Brown</td>\n",
       "      <td>25.0</td>\n",
       "      <td>WR</td>\n",
       "      <td>17</td>\n",
       "      <td>16.0</td>\n",
       "      <td>226.0</td>\n",
       "      <td>6-1</td>\n",
       "      <td>Mississippi</td>\n",
       "      <td>6/30/1997</td>\n",
       "      <td>3</td>\n",
       "      <td>16.0</td>\n",
       "      <td>Tennessee Titans / 2nd / 51st pick / 2019</td>\n",
       "    </tr>\n",
       "    <tr>\n",
       "      <th>4</th>\n",
       "      <td>47.0</td>\n",
       "      <td>Grant Calcaterra</td>\n",
       "      <td>24.0</td>\n",
       "      <td>TE</td>\n",
       "      <td>15</td>\n",
       "      <td>2.0</td>\n",
       "      <td>247.0</td>\n",
       "      <td>6-5</td>\n",
       "      <td>Oklahoma,SMU</td>\n",
       "      <td>12/4/1998</td>\n",
       "      <td>Rook</td>\n",
       "      <td>1.0</td>\n",
       "      <td>Philadelphia Eagles / 6th / 198th pick / 2022</td>\n",
       "    </tr>\n",
       "    <tr>\n",
       "      <th>...</th>\n",
       "      <td>...</td>\n",
       "      <td>...</td>\n",
       "      <td>...</td>\n",
       "      <td>...</td>\n",
       "      <td>...</td>\n",
       "      <td>...</td>\n",
       "      <td>...</td>\n",
       "      <td>...</td>\n",
       "      <td>...</td>\n",
       "      <td>...</td>\n",
       "      <td>...</td>\n",
       "      <td>...</td>\n",
       "      <td>...</td>\n",
       "    </tr>\n",
       "    <tr>\n",
       "      <th>56</th>\n",
       "      <td>80.0</td>\n",
       "      <td>Tyree Jackson (IR)</td>\n",
       "      <td>25.0</td>\n",
       "      <td>TE</td>\n",
       "      <td>5</td>\n",
       "      <td>0.0</td>\n",
       "      <td>249.0</td>\n",
       "      <td>6-7</td>\n",
       "      <td>Buffalo</td>\n",
       "      <td>11/7/1997</td>\n",
       "      <td>1</td>\n",
       "      <td>0.0</td>\n",
       "      <td>NaN</td>\n",
       "    </tr>\n",
       "    <tr>\n",
       "      <th>57</th>\n",
       "      <td>59.0</td>\n",
       "      <td>Janarius Robinson (IR)</td>\n",
       "      <td>23.0</td>\n",
       "      <td>DE</td>\n",
       "      <td>0</td>\n",
       "      <td>0.0</td>\n",
       "      <td>260.0</td>\n",
       "      <td>6-5</td>\n",
       "      <td>Florida St.</td>\n",
       "      <td>5/5/1999</td>\n",
       "      <td>Rook</td>\n",
       "      <td>NaN</td>\n",
       "      <td>Minnesota Vikings / 4th / 134th pick / 2021</td>\n",
       "    </tr>\n",
       "    <tr>\n",
       "      <th>58</th>\n",
       "      <td>95.0</td>\n",
       "      <td>Marlon Tuipulotu (IR)</td>\n",
       "      <td>23.0</td>\n",
       "      <td>DT</td>\n",
       "      <td>9</td>\n",
       "      <td>1.0</td>\n",
       "      <td>307.0</td>\n",
       "      <td>6-2</td>\n",
       "      <td>USC</td>\n",
       "      <td>5/31/1999</td>\n",
       "      <td>1</td>\n",
       "      <td>1.0</td>\n",
       "      <td>Philadelphia Eagles / 6th / 189th pick / 2021</td>\n",
       "    </tr>\n",
       "    <tr>\n",
       "      <th>59</th>\n",
       "      <td>61.0</td>\n",
       "      <td>Josh Sills (EXE)</td>\n",
       "      <td>24.0</td>\n",
       "      <td>G</td>\n",
       "      <td>1</td>\n",
       "      <td>0.0</td>\n",
       "      <td>325.0</td>\n",
       "      <td>6-6</td>\n",
       "      <td>West Virginia,Oklahoma St.</td>\n",
       "      <td>1/26/1998</td>\n",
       "      <td>Rook</td>\n",
       "      <td>0.0</td>\n",
       "      <td>NaN</td>\n",
       "    </tr>\n",
       "    <tr>\n",
       "      <th>60</th>\n",
       "      <td>NaN</td>\n",
       "      <td>Team Total</td>\n",
       "      <td>26.3</td>\n",
       "      <td>NaN</td>\n",
       "      <td>17</td>\n",
       "      <td>NaN</td>\n",
       "      <td>246.2</td>\n",
       "      <td>6-1.9</td>\n",
       "      <td>NaN</td>\n",
       "      <td>NaN</td>\n",
       "      <td>3.5</td>\n",
       "      <td>NaN</td>\n",
       "      <td>NaN</td>\n",
       "    </tr>\n",
       "  </tbody>\n",
       "</table>\n",
       "<p>61 rows × 13 columns</p>\n",
       "</div>"
      ],
      "text/plain": [
       "     no.                  player   age  pos   g    gs     wt     ht  \\\n",
       "0   32.0        Reed Blankenship  23.0    S  10   4.0  196.0    6-1   \n",
       "1   19.0                Ian Book  24.0   QB   0   0.0  206.0    6-0   \n",
       "2   24.0         James Bradberry  29.0   CB  17  17.0  212.0    6-1   \n",
       "3   11.0              A.J. Brown  25.0   WR  17  16.0  226.0    6-1   \n",
       "4   47.0        Grant Calcaterra  24.0   TE  15   2.0  247.0    6-5   \n",
       "..   ...                     ...   ...  ...  ..   ...    ...    ...   \n",
       "56  80.0      Tyree Jackson (IR)  25.0   TE   5   0.0  249.0    6-7   \n",
       "57  59.0  Janarius Robinson (IR)  23.0   DE   0   0.0  260.0    6-5   \n",
       "58  95.0   Marlon Tuipulotu (IR)  23.0   DT   9   1.0  307.0    6-2   \n",
       "59  61.0        Josh Sills (EXE)  24.0    G   1   0.0  325.0    6-6   \n",
       "60   NaN              Team Total  26.3  NaN  17   NaN  246.2  6-1.9   \n",
       "\n",
       "                  college/univ  birthdate   yrs    av  \\\n",
       "0             Middle Tenn. St.   3/2/1999  Rook   2.0   \n",
       "1                   Notre Dame  3/30/1998     1   NaN   \n",
       "2         Arkansas St.,Samford   8/4/1993     6  11.0   \n",
       "3                  Mississippi  6/30/1997     3  16.0   \n",
       "4                 Oklahoma,SMU  12/4/1998  Rook   1.0   \n",
       "..                         ...        ...   ...   ...   \n",
       "56                     Buffalo  11/7/1997     1   0.0   \n",
       "57                 Florida St.   5/5/1999  Rook   NaN   \n",
       "58                         USC  5/31/1999     1   1.0   \n",
       "59  West Virginia,Oklahoma St.  1/26/1998  Rook   0.0   \n",
       "60                         NaN        NaN   3.5   NaN   \n",
       "\n",
       "                              drafted (tm/rnd/yr)  \n",
       "0                                             NaN  \n",
       "1    New Orleans Saints / 4th / 133rd pick / 2021  \n",
       "2      Carolina Panthers / 2nd / 62nd pick / 2016  \n",
       "3       Tennessee Titans / 2nd / 51st pick / 2019  \n",
       "4   Philadelphia Eagles / 6th / 198th pick / 2022  \n",
       "..                                            ...  \n",
       "56                                            NaN  \n",
       "57    Minnesota Vikings / 4th / 134th pick / 2021  \n",
       "58  Philadelphia Eagles / 6th / 189th pick / 2021  \n",
       "59                                            NaN  \n",
       "60                                            NaN  \n",
       "\n",
       "[61 rows x 13 columns]"
      ]
     },
     "execution_count": 11,
     "metadata": {},
     "output_type": "execute_result"
    }
   ],
   "source": [
    "robo(url)"
   ]
  },
  {
   "cell_type": "code",
   "execution_count": 12,
   "id": "262dd299",
   "metadata": {
    "ExecuteTime": {
     "end_time": "2023-02-10T14:35:38.905737Z",
     "start_time": "2023-02-10T14:35:37.614311Z"
    }
   },
   "outputs": [
    {
     "data": {
      "text/plain": [
       "61"
      ]
     },
     "execution_count": 12,
     "metadata": {},
     "output_type": "execute_result"
    }
   ],
   "source": [
    "db_server='pymysql'\n",
    "user='root'\n",
    "db_port = '3306'\n",
    "password = 'rootroot'\n",
    "ip = 'localhost'\n",
    "db_name = 'nflcopy'\n",
    "engine = sqlalchemy.create_engine(f'mysql+{db_server}://{user}:{password}@{ip}:{db_port}/{db_name}?charset=utf8')\n",
    "robo(url).to_sql(name_table, engine, index=False, if_exists='replace')"
   ]
  },
  {
   "cell_type": "code",
   "execution_count": null,
   "id": "663d88a5",
   "metadata": {},
   "outputs": [],
   "source": []
  }
 ],
 "metadata": {
  "kernelspec": {
   "display_name": "Python 3 (ipykernel)",
   "language": "python",
   "name": "python3"
  },
  "language_info": {
   "codemirror_mode": {
    "name": "ipython",
    "version": 3
   },
   "file_extension": ".py",
   "mimetype": "text/x-python",
   "name": "python",
   "nbconvert_exporter": "python",
   "pygments_lexer": "ipython3",
   "version": "3.9.13"
  },
  "toc": {
   "base_numbering": 1,
   "nav_menu": {},
   "number_sections": true,
   "sideBar": true,
   "skip_h1_title": false,
   "title_cell": "Table of Contents",
   "title_sidebar": "Contents",
   "toc_cell": false,
   "toc_position": {},
   "toc_section_display": true,
   "toc_window_display": false
  }
 },
 "nbformat": 4,
 "nbformat_minor": 5
}
